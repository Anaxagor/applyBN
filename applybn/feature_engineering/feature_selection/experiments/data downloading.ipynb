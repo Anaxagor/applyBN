{
 "cells": [
  {
   "cell_type": "markdown",
   "id": "62e84946",
   "metadata": {},
   "source": [
    "### Репозиторий - https://github.com/vcherepanova/tabular-feature-selection"
   ]
  },
  {
   "cell_type": "code",
   "execution_count": null,
   "id": "b9f8d68a",
   "metadata": {},
   "outputs": [],
   "source": [
    "import pandas as pd\n",
    "\n",
    "save_directory = \"my_datasets\"\n",
    "from deep_tabular.utils.data_tools import get_data_locally"
   ]
  },
  {
   "cell_type": "code",
   "execution_count": null,
   "id": "8a123f26",
   "metadata": {},
   "outputs": [],
   "source": [
    "list_df_classif=['adult', 'aloi',  'churn',   'eye',  'gesture', 'helena', 'higgs-small',  'jannis',  'otto']"
   ]
  },
  {
   "cell_type": "code",
   "execution_count": null,
   "id": "da081709",
   "metadata": {},
   "outputs": [],
   "source": [
    "list_df_regr=['california_housing', 'microsoft','year', 'house']"
   ]
  },
  {
   "cell_type": "code",
   "execution_count": 1,
   "id": "cf9085d1",
   "metadata": {},
   "outputs": [],
   "source": [
    "from sklearn.preprocessing import LabelEncoder\n",
    "from sklearn.model_selection import train_test_split\n",
    "import pandas as pd\n",
    "\n",
    "def process_datasets(datasets, add_n_features, save_directory, train_test_ratio=0.2):\n",
    "    \n",
    "    for dataset in datasets:\n",
    "        \n",
    "        data, targets, categorical_columns, numerical_columns = get_data_locally(dataset, 'secondorder_feats', add_n_features)\n",
    "        \n",
    "        print(f\"Processing dataset: {dataset}\")\n",
    "        print(f\"Shape before encoding: {data.shape}\")\n",
    "        \n",
    "        \n",
    "        label_encoders = {}\n",
    "        for col in categorical_columns:\n",
    "            label_encoder = LabelEncoder()\n",
    "            data[col] = label_encoder.fit_transform(data[col])\n",
    "            label_encoders[col] = label_encoder\n",
    "        \n",
    "        print(f\"Shape after encoding: {data.shape}\")\n",
    "        \n",
    "        \n",
    "        X_train, X_test, y_train, y_test = train_test_split(data, targets, test_size=train_test_ratio, random_state=42)\n",
    "        \n",
    "        print(f\"Train shape: {X_train.shape}, Test shape: {X_test.shape}\")\n",
    "        \n",
    "        \n",
    "        X_train.to_csv(f\"{save_directory}/{dataset}_secondorder_{add_n_features}_X_train.csv\", index=False)\n",
    "        X_test.to_csv(f\"{save_directory}/{dataset}_secondorder_{add_n_features}_X_test.csv\", index=False)\n",
    "        pd.DataFrame(y_train).to_csv(f\"{save_directory}/{dataset}_secondorder_{add_n_features}_y_train.csv\", index=False)\n",
    "        pd.DataFrame(y_test).to_csv(f\"{save_directory}/{dataset}_secondorder_{add_n_features}_y_test.csv\", index=False)\n",
    "        \n",
    "    print(\"Processing complete for all datasets.\")\n"
   ]
  },
  {
   "cell_type": "code",
   "execution_count": null,
   "id": "03e3a34e",
   "metadata": {},
   "outputs": [],
   "source": []
  }
 ],
 "metadata": {
  "kernelspec": {
   "display_name": "Python 3 (ipykernel)",
   "language": "python",
   "name": "python3"
  },
  "language_info": {
   "codemirror_mode": {
    "name": "ipython",
    "version": 3
   },
   "file_extension": ".py",
   "mimetype": "text/x-python",
   "name": "python",
   "nbconvert_exporter": "python",
   "pygments_lexer": "ipython3",
   "version": "3.9.17"
  }
 },
 "nbformat": 4,
 "nbformat_minor": 5
}
